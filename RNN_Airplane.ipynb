{
  "nbformat": 4,
  "nbformat_minor": 0,
  "metadata": {
    "colab": {
      "provenance": []
    },
    "kernelspec": {
      "name": "python3",
      "display_name": "Python 3"
    },
    "language_info": {
      "name": "python"
    }
  },
  "cells": [
    {
      "cell_type": "markdown",
      "source": [
        "##**Contexto de negócio**\n",
        "\n",
        "Uma companhia de seguros de viagem disponibilizou essa base de dados no kaggle que possui registros acerca de pessoas que viajaram e se essas pessoas contrataram o seguro-viagem. Sendo assim, o objetivo de negocio continua sendo o de criar um modelo que consiga prever com base nessas features quando que um cliente irá contratar um seguro-viagem. Esse modelo poderá auxiliar em algumas tomadas de decisão como campanhas direcionadas de marketing para ampliar o mercado consumidor, ajudando analistas de mercado a entender melhor o seu público-alvo. "
      ],
      "metadata": {
        "id": "FS-sepMXi4Js"
      }
    },
    {
      "cell_type": "code",
      "execution_count": null,
      "metadata": {
        "id": "WZQRU06TsPjA",
        "colab": {
          "base_uri": "https://localhost:8080/",
          "height": 424
        },
        "outputId": "94da179a-435f-486a-a77e-ed2a4ba55e9e"
      },
      "outputs": [
        {
          "output_type": "execute_result",
          "data": {
            "text/plain": [
              "      Unnamed: 0  Age  Employment Type  GraduateOrNot AnnualIncome  \\\n",
              "0              0   31                1              1            3   \n",
              "1              1   31                0              1            8   \n",
              "2              2   34                0              1            4   \n",
              "3              3   28                0              1            5   \n",
              "4              4   28                0              1            5   \n",
              "...          ...  ...              ...            ...          ...   \n",
              "1982        1982   33                0              1            8   \n",
              "1983        1983   28                0              1            9   \n",
              "1984        1984   28                0              1            8   \n",
              "1985        1985   34                0              1            7   \n",
              "1986        1986   34                0              1            4   \n",
              "\n",
              "      FamilyMembers  ChronicDiseases  FrequentFlyer  EverTravelledAbroad  \\\n",
              "0                 6                1              0                    0   \n",
              "1                 7                0              0                    0   \n",
              "2                 4                1              0                    0   \n",
              "3                 3                1              0                    0   \n",
              "4                 8                1              1                    0   \n",
              "...             ...              ...            ...                  ...   \n",
              "1982              4                0              1                    1   \n",
              "1983              5                1              0                    1   \n",
              "1984              6                1              0                    0   \n",
              "1985              6                0              1                    1   \n",
              "1986              4                0              0                    0   \n",
              "\n",
              "      TravelInsurance  \n",
              "0                   0  \n",
              "1                   0  \n",
              "2                   1  \n",
              "3                   0  \n",
              "4                   0  \n",
              "...               ...  \n",
              "1982                1  \n",
              "1983                0  \n",
              "1984                0  \n",
              "1985                1  \n",
              "1986                0  \n",
              "\n",
              "[1987 rows x 10 columns]"
            ],
            "text/html": [
              "\n",
              "  <div id=\"df-218f24d6-ff3d-4e2b-b7f4-8349ea042943\">\n",
              "    <div class=\"colab-df-container\">\n",
              "      <div>\n",
              "<style scoped>\n",
              "    .dataframe tbody tr th:only-of-type {\n",
              "        vertical-align: middle;\n",
              "    }\n",
              "\n",
              "    .dataframe tbody tr th {\n",
              "        vertical-align: top;\n",
              "    }\n",
              "\n",
              "    .dataframe thead th {\n",
              "        text-align: right;\n",
              "    }\n",
              "</style>\n",
              "<table border=\"1\" class=\"dataframe\">\n",
              "  <thead>\n",
              "    <tr style=\"text-align: right;\">\n",
              "      <th></th>\n",
              "      <th>Unnamed: 0</th>\n",
              "      <th>Age</th>\n",
              "      <th>Employment Type</th>\n",
              "      <th>GraduateOrNot</th>\n",
              "      <th>AnnualIncome</th>\n",
              "      <th>FamilyMembers</th>\n",
              "      <th>ChronicDiseases</th>\n",
              "      <th>FrequentFlyer</th>\n",
              "      <th>EverTravelledAbroad</th>\n",
              "      <th>TravelInsurance</th>\n",
              "    </tr>\n",
              "  </thead>\n",
              "  <tbody>\n",
              "    <tr>\n",
              "      <th>0</th>\n",
              "      <td>0</td>\n",
              "      <td>31</td>\n",
              "      <td>1</td>\n",
              "      <td>1</td>\n",
              "      <td>3</td>\n",
              "      <td>6</td>\n",
              "      <td>1</td>\n",
              "      <td>0</td>\n",
              "      <td>0</td>\n",
              "      <td>0</td>\n",
              "    </tr>\n",
              "    <tr>\n",
              "      <th>1</th>\n",
              "      <td>1</td>\n",
              "      <td>31</td>\n",
              "      <td>0</td>\n",
              "      <td>1</td>\n",
              "      <td>8</td>\n",
              "      <td>7</td>\n",
              "      <td>0</td>\n",
              "      <td>0</td>\n",
              "      <td>0</td>\n",
              "      <td>0</td>\n",
              "    </tr>\n",
              "    <tr>\n",
              "      <th>2</th>\n",
              "      <td>2</td>\n",
              "      <td>34</td>\n",
              "      <td>0</td>\n",
              "      <td>1</td>\n",
              "      <td>4</td>\n",
              "      <td>4</td>\n",
              "      <td>1</td>\n",
              "      <td>0</td>\n",
              "      <td>0</td>\n",
              "      <td>1</td>\n",
              "    </tr>\n",
              "    <tr>\n",
              "      <th>3</th>\n",
              "      <td>3</td>\n",
              "      <td>28</td>\n",
              "      <td>0</td>\n",
              "      <td>1</td>\n",
              "      <td>5</td>\n",
              "      <td>3</td>\n",
              "      <td>1</td>\n",
              "      <td>0</td>\n",
              "      <td>0</td>\n",
              "      <td>0</td>\n",
              "    </tr>\n",
              "    <tr>\n",
              "      <th>4</th>\n",
              "      <td>4</td>\n",
              "      <td>28</td>\n",
              "      <td>0</td>\n",
              "      <td>1</td>\n",
              "      <td>5</td>\n",
              "      <td>8</td>\n",
              "      <td>1</td>\n",
              "      <td>1</td>\n",
              "      <td>0</td>\n",
              "      <td>0</td>\n",
              "    </tr>\n",
              "    <tr>\n",
              "      <th>...</th>\n",
              "      <td>...</td>\n",
              "      <td>...</td>\n",
              "      <td>...</td>\n",
              "      <td>...</td>\n",
              "      <td>...</td>\n",
              "      <td>...</td>\n",
              "      <td>...</td>\n",
              "      <td>...</td>\n",
              "      <td>...</td>\n",
              "      <td>...</td>\n",
              "    </tr>\n",
              "    <tr>\n",
              "      <th>1982</th>\n",
              "      <td>1982</td>\n",
              "      <td>33</td>\n",
              "      <td>0</td>\n",
              "      <td>1</td>\n",
              "      <td>8</td>\n",
              "      <td>4</td>\n",
              "      <td>0</td>\n",
              "      <td>1</td>\n",
              "      <td>1</td>\n",
              "      <td>1</td>\n",
              "    </tr>\n",
              "    <tr>\n",
              "      <th>1983</th>\n",
              "      <td>1983</td>\n",
              "      <td>28</td>\n",
              "      <td>0</td>\n",
              "      <td>1</td>\n",
              "      <td>9</td>\n",
              "      <td>5</td>\n",
              "      <td>1</td>\n",
              "      <td>0</td>\n",
              "      <td>1</td>\n",
              "      <td>0</td>\n",
              "    </tr>\n",
              "    <tr>\n",
              "      <th>1984</th>\n",
              "      <td>1984</td>\n",
              "      <td>28</td>\n",
              "      <td>0</td>\n",
              "      <td>1</td>\n",
              "      <td>8</td>\n",
              "      <td>6</td>\n",
              "      <td>1</td>\n",
              "      <td>0</td>\n",
              "      <td>0</td>\n",
              "      <td>0</td>\n",
              "    </tr>\n",
              "    <tr>\n",
              "      <th>1985</th>\n",
              "      <td>1985</td>\n",
              "      <td>34</td>\n",
              "      <td>0</td>\n",
              "      <td>1</td>\n",
              "      <td>7</td>\n",
              "      <td>6</td>\n",
              "      <td>0</td>\n",
              "      <td>1</td>\n",
              "      <td>1</td>\n",
              "      <td>1</td>\n",
              "    </tr>\n",
              "    <tr>\n",
              "      <th>1986</th>\n",
              "      <td>1986</td>\n",
              "      <td>34</td>\n",
              "      <td>0</td>\n",
              "      <td>1</td>\n",
              "      <td>4</td>\n",
              "      <td>4</td>\n",
              "      <td>0</td>\n",
              "      <td>0</td>\n",
              "      <td>0</td>\n",
              "      <td>0</td>\n",
              "    </tr>\n",
              "  </tbody>\n",
              "</table>\n",
              "<p>1987 rows × 10 columns</p>\n",
              "</div>\n",
              "      <button class=\"colab-df-convert\" onclick=\"convertToInteractive('df-218f24d6-ff3d-4e2b-b7f4-8349ea042943')\"\n",
              "              title=\"Convert this dataframe to an interactive table.\"\n",
              "              style=\"display:none;\">\n",
              "        \n",
              "  <svg xmlns=\"http://www.w3.org/2000/svg\" height=\"24px\"viewBox=\"0 0 24 24\"\n",
              "       width=\"24px\">\n",
              "    <path d=\"M0 0h24v24H0V0z\" fill=\"none\"/>\n",
              "    <path d=\"M18.56 5.44l.94 2.06.94-2.06 2.06-.94-2.06-.94-.94-2.06-.94 2.06-2.06.94zm-11 1L8.5 8.5l.94-2.06 2.06-.94-2.06-.94L8.5 2.5l-.94 2.06-2.06.94zm10 10l.94 2.06.94-2.06 2.06-.94-2.06-.94-.94-2.06-.94 2.06-2.06.94z\"/><path d=\"M17.41 7.96l-1.37-1.37c-.4-.4-.92-.59-1.43-.59-.52 0-1.04.2-1.43.59L10.3 9.45l-7.72 7.72c-.78.78-.78 2.05 0 2.83L4 21.41c.39.39.9.59 1.41.59.51 0 1.02-.2 1.41-.59l7.78-7.78 2.81-2.81c.8-.78.8-2.07 0-2.86zM5.41 20L4 18.59l7.72-7.72 1.47 1.35L5.41 20z\"/>\n",
              "  </svg>\n",
              "      </button>\n",
              "      \n",
              "  <style>\n",
              "    .colab-df-container {\n",
              "      display:flex;\n",
              "      flex-wrap:wrap;\n",
              "      gap: 12px;\n",
              "    }\n",
              "\n",
              "    .colab-df-convert {\n",
              "      background-color: #E8F0FE;\n",
              "      border: none;\n",
              "      border-radius: 50%;\n",
              "      cursor: pointer;\n",
              "      display: none;\n",
              "      fill: #1967D2;\n",
              "      height: 32px;\n",
              "      padding: 0 0 0 0;\n",
              "      width: 32px;\n",
              "    }\n",
              "\n",
              "    .colab-df-convert:hover {\n",
              "      background-color: #E2EBFA;\n",
              "      box-shadow: 0px 1px 2px rgba(60, 64, 67, 0.3), 0px 1px 3px 1px rgba(60, 64, 67, 0.15);\n",
              "      fill: #174EA6;\n",
              "    }\n",
              "\n",
              "    [theme=dark] .colab-df-convert {\n",
              "      background-color: #3B4455;\n",
              "      fill: #D2E3FC;\n",
              "    }\n",
              "\n",
              "    [theme=dark] .colab-df-convert:hover {\n",
              "      background-color: #434B5C;\n",
              "      box-shadow: 0px 1px 3px 1px rgba(0, 0, 0, 0.15);\n",
              "      filter: drop-shadow(0px 1px 2px rgba(0, 0, 0, 0.3));\n",
              "      fill: #FFFFFF;\n",
              "    }\n",
              "  </style>\n",
              "\n",
              "      <script>\n",
              "        const buttonEl =\n",
              "          document.querySelector('#df-218f24d6-ff3d-4e2b-b7f4-8349ea042943 button.colab-df-convert');\n",
              "        buttonEl.style.display =\n",
              "          google.colab.kernel.accessAllowed ? 'block' : 'none';\n",
              "\n",
              "        async function convertToInteractive(key) {\n",
              "          const element = document.querySelector('#df-218f24d6-ff3d-4e2b-b7f4-8349ea042943');\n",
              "          const dataTable =\n",
              "            await google.colab.kernel.invokeFunction('convertToInteractive',\n",
              "                                                     [key], {});\n",
              "          if (!dataTable) return;\n",
              "\n",
              "          const docLinkHtml = 'Like what you see? Visit the ' +\n",
              "            '<a target=\"_blank\" href=https://colab.research.google.com/notebooks/data_table.ipynb>data table notebook</a>'\n",
              "            + ' to learn more about interactive tables.';\n",
              "          element.innerHTML = '';\n",
              "          dataTable['output_type'] = 'display_data';\n",
              "          await google.colab.output.renderOutput(dataTable, element);\n",
              "          const docLink = document.createElement('div');\n",
              "          docLink.innerHTML = docLinkHtml;\n",
              "          element.appendChild(docLink);\n",
              "        }\n",
              "      </script>\n",
              "    </div>\n",
              "  </div>\n",
              "  "
            ]
          },
          "metadata": {},
          "execution_count": 301
        }
      ],
      "source": [
        "import pandas as pd\n",
        "df = pd.read_csv('/content/drive/MyDrive/Airplane/TravelInsurancePrediction.csv')\n",
        "df.dropna()\n",
        "df['Employment Type'].replace(['Government Sector','Private Sector/Self Employed'],[1,0],inplace=True)\n",
        "\n",
        "df['GraduateOrNot'].replace(['Yes','No'],[1,0],inplace=True)\n",
        "\n",
        "df['FrequentFlyer'].replace(['Yes','No'],[1,0],inplace=True)\n",
        "df['EverTravelledAbroad'].replace(['Yes','No'],[1,0],inplace=True)\n",
        "Categorias = [1,2,3,4,5,6,7,8,9]\n",
        "Intervalos = [0,150000,300000,450000,600000,750000,900000,1000000,1500000,2000000]\n",
        "df['AnnualIncome'] = pd.cut(df['AnnualIncome'], bins = Intervalos, labels = Categorias)\n",
        "df['AnnualIncome'].value_counts()\n",
        "df"
      ]
    },
    {
      "cell_type": "code",
      "source": [
        "from sklearn.model_selection import train_test_split\n",
        "treino, teste = train_test_split(df, train_size=0.8)"
      ],
      "metadata": {
        "id": "Yc-UCGNM4OBG"
      },
      "execution_count": null,
      "outputs": []
    },
    {
      "cell_type": "markdown",
      "source": [
        "Ao todo, a base de dados possui 1987 registros. Nesse modelo em específico dividiremos ela em 80% para treino e 20% para teste."
      ],
      "metadata": {
        "id": "29btQ8wckNW3"
      }
    },
    {
      "cell_type": "code",
      "source": [
        "import tensorflow\n",
        "from tensorflow import keras\n",
        "\n",
        "nn = keras.Sequential([\n",
        "      keras.layers.Input(len(treino.columns)-3),\n",
        "      keras.layers.Dense(4, activation='relu'),\n",
        "      keras.layers.Dense(3, activation='relu'),\n",
        "      keras.layers.Dense(2, activation='relu'),\n",
        "      keras.layers.Dense(1, activation='sigmoid')\n",
        "])\n",
        "\n",
        "nn.compile(optimizer='adam' , loss='binary_crossentropy')\n",
        "\n",
        "nn.fit(treino[list(treino.columns[2:-1])] , treino['TravelInsurance'])\n"
      ],
      "metadata": {
        "id": "MUB9thp0oUoH",
        "colab": {
          "base_uri": "https://localhost:8080/"
        },
        "outputId": "2da371a9-0b5a-4cd0-cb24-9448c5ea12ca"
      },
      "execution_count": null,
      "outputs": [
        {
          "output_type": "stream",
          "name": "stdout",
          "text": [
            "50/50 [==============================] - 1s 2ms/step - loss: 0.6925\n"
          ]
        },
        {
          "output_type": "execute_result",
          "data": {
            "text/plain": [
              "<keras.callbacks.History at 0x7f6b5346edd0>"
            ]
          },
          "metadata": {},
          "execution_count": 393
        }
      ]
    },
    {
      "cell_type": "markdown",
      "source": [
        "Nesse trecho de código foi criada uma rede neural, que possui como entradas todas as features do modelo (Menos a idade). Ao todo, a rede possui 4 camadas, sendo elas 3 intermediárias e uma de saída. As camadas intermediárias começam com 4 neurônios e o número de neurônios vai reduzindo de 1 em 1 até chegar na camada de saída. Após alguns testes decidimos que essa seria a configuração recomendada para a rede. Desse modo, realizamos o fit das features e da label no modelo para começar a fazer as predições de treino."
      ],
      "metadata": {
        "id": "2T-gbnrLkY-J"
      }
    },
    {
      "cell_type": "code",
      "source": [
        "prevs_treino = nn.predict(treino[list(treino.columns[2:-1])])\n",
        "prevs_treino[:25]"
      ],
      "metadata": {
        "id": "kPo37oMnhAQ8",
        "colab": {
          "base_uri": "https://localhost:8080/"
        },
        "outputId": "d2e3abf8-1ccf-47ac-d0ac-dc433759b141"
      },
      "execution_count": null,
      "outputs": [
        {
          "output_type": "execute_result",
          "data": {
            "text/plain": [
              "array([[0.49199843],\n",
              "       [0.5073818 ],\n",
              "       [0.49199843],\n",
              "       [0.48904318],\n",
              "       [0.48904318],\n",
              "       [0.50634485],\n",
              "       [0.48904318],\n",
              "       [0.48904318],\n",
              "       [0.48904318],\n",
              "       [0.5004028 ],\n",
              "       [0.49561045],\n",
              "       [0.48904318],\n",
              "       [0.4912728 ],\n",
              "       [0.5072905 ],\n",
              "       [0.50385654],\n",
              "       [0.4968051 ],\n",
              "       [0.48904318],\n",
              "       [0.5073818 ],\n",
              "       [0.5109064 ],\n",
              "       [0.48904318],\n",
              "       [0.51228356],\n",
              "       [0.48967096],\n",
              "       [0.5205208 ],\n",
              "       [0.4968051 ],\n",
              "       [0.48904318]], dtype=float32)"
            ]
          },
          "metadata": {},
          "execution_count": 394
        }
      ]
    },
    {
      "cell_type": "code",
      "source": [
        "prev_treino = []\n",
        "for prev in prevs_treino:\n",
        "  prev_treino.append(0 if prev < 0.5 else 1)\n"
      ],
      "metadata": {
        "id": "ZbOfZJE1ocQu"
      },
      "execution_count": null,
      "outputs": []
    },
    {
      "cell_type": "code",
      "source": [
        "y_treino = treino['TravelInsurance']\n",
        "y_treino"
      ],
      "metadata": {
        "id": "jR77qYtsofzl",
        "colab": {
          "base_uri": "https://localhost:8080/"
        },
        "outputId": "cad6426a-dc9b-4f59-81d1-2acdc8534cdf"
      },
      "execution_count": null,
      "outputs": [
        {
          "output_type": "execute_result",
          "data": {
            "text/plain": [
              "1496    0\n",
              "132     0\n",
              "683     0\n",
              "696     0\n",
              "66      0\n",
              "       ..\n",
              "1980    0\n",
              "1668    0\n",
              "289     0\n",
              "1703    0\n",
              "401     0\n",
              "Name: TravelInsurance, Length: 1589, dtype: int64"
            ]
          },
          "metadata": {},
          "execution_count": 396
        }
      ]
    },
    {
      "cell_type": "markdown",
      "source": [
        "Após alguns testes de eficácia do treino, chegamos á conclusão de que o valor de ativação mais adequado para esta rede seria de 0.5. Esse valor corresponde a classificação dos resultados previstos pela rede neural em sim/não, que no contexto do negócio significa(contratou/não-contratou). Feita essa ponderação, hora de ver como o modelo se comporta em treino."
      ],
      "metadata": {
        "id": "7RvGD4cplLDe"
      }
    },
    {
      "cell_type": "code",
      "source": [
        "from sklearn.metrics import accuracy_score\n",
        "acrr_treino = accuracy_score(y_treino,prev_treino) * 100\n",
        "acrr_treino"
      ],
      "metadata": {
        "id": "781kLbwYom1e",
        "colab": {
          "base_uri": "https://localhost:8080/"
        },
        "outputId": "1c0cd1e3-af6a-45c0-f3ec-3a4c12107502"
      },
      "execution_count": null,
      "outputs": [
        {
          "output_type": "execute_result",
          "data": {
            "text/plain": [
              "65.8275645059786"
            ]
          },
          "metadata": {},
          "execution_count": 397
        }
      ]
    },
    {
      "cell_type": "markdown",
      "source": [
        "Com uma acurácia de 65% em treino, vemos que no geral o modelo possui uma boa confiabilidade nas tomadas de decisões. Apesar de não ser um cenário tão bom é possível ver que ele já acerta mais da metade registros que são apresentados para ele. Isso poderia facilitar a vida de muitos analistas de negócio de empresas de seguros que coletem esses dados de seus clientes, pois facilitaria o traçamento de um perfil dos consumidores do serviço seguro-viagem. Mesmo assim, não há como dizer que esse modelo sozinho traria uma grande mudança na forma como as empresas abordam seus clientes. Porém, como estamos tratando de um contexto onde a maioria das decisões dizem a respeito de marketing e investigação, é um resultado bem válido."
      ],
      "metadata": {
        "id": "V2lkZfbInZdL"
      }
    },
    {
      "cell_type": "code",
      "source": [
        "prevs_teste = nn.predict(teste[list(treino.columns[2:-1])] )\n",
        "prev_teste = []\n",
        "for prev in prevs_teste:\n",
        "  prev_teste.append(0 if prev < 0.5  else 1)\n",
        "\n",
        "prev_teste[:15]"
      ],
      "metadata": {
        "colab": {
          "base_uri": "https://localhost:8080/"
        },
        "id": "bzWt9S42Ews-",
        "outputId": "b8526082-8953-41f5-dc9f-507870b2f66b"
      },
      "execution_count": null,
      "outputs": [
        {
          "output_type": "execute_result",
          "data": {
            "text/plain": [
              "[0, 0, 1, 0, 0, 1, 0, 0, 0, 0, 1, 0, 0, 0, 0]"
            ]
          },
          "metadata": {},
          "execution_count": 398
        }
      ]
    },
    {
      "cell_type": "code",
      "source": [
        "y_teste = teste['TravelInsurance']\n",
        "y_teste"
      ],
      "metadata": {
        "colab": {
          "base_uri": "https://localhost:8080/"
        },
        "id": "Ahh4cDGVE7zl",
        "outputId": "0dd46766-f960-4f80-f8d7-1f08e2de2e09"
      },
      "execution_count": null,
      "outputs": [
        {
          "output_type": "execute_result",
          "data": {
            "text/plain": [
              "1005    0\n",
              "1706    0\n",
              "519     1\n",
              "370     1\n",
              "961     0\n",
              "       ..\n",
              "279     0\n",
              "356     0\n",
              "846     0\n",
              "1348    0\n",
              "1860    0\n",
              "Name: TravelInsurance, Length: 398, dtype: int64"
            ]
          },
          "metadata": {},
          "execution_count": 399
        }
      ]
    },
    {
      "cell_type": "markdown",
      "source": [
        "Realizando agora as mesmas implementações de treino porém com o conjunto de teste."
      ],
      "metadata": {
        "id": "aPctDkIcob9D"
      }
    },
    {
      "cell_type": "code",
      "source": [
        "from sklearn.metrics import accuracy_score\n",
        "accr_teste = accuracy_score(y_teste,prev_teste) * 100\n",
        "accr_teste"
      ],
      "metadata": {
        "colab": {
          "base_uri": "https://localhost:8080/"
        },
        "id": "qdTAm2XJE_qX",
        "outputId": "d7ea68dd-1722-4ab2-dba4-2aae1f80ef26"
      },
      "execution_count": null,
      "outputs": [
        {
          "output_type": "execute_result",
          "data": {
            "text/plain": [
              "66.08040201005025"
            ]
          },
          "metadata": {},
          "execution_count": 400
        }
      ]
    },
    {
      "cell_type": "markdown",
      "source": [
        "Vemos que em teste a acurácia aumentou de 65% para 66%, o que mostra que não houve underfit e o modelo conseguiu fazer previsões razoavelmente boas a respeito da contratação do serviço. Com o objetivo de melhorar a análise de negócio, esses resultados apontam que a rede neural possui uma limitação bem clara a respeito de fazer predições mas pode sim ser usada como uma ferramenta pelos analistas. Não como o principal parâmetro para tomar decisões mas sim como um bom indicador. Nos resta analisar agora as proporções de acertos e erros para tirar conclusões mais precisas"
      ],
      "metadata": {
        "id": "tpJASUurpvzc"
      }
    },
    {
      "cell_type": "code",
      "source": [
        "from sklearn.metrics import confusion_matrix,classification_report\n",
        "import seaborn as sns\n",
        "cm = confusion_matrix(y_teste , prev_teste)\n",
        "print(cm)\n",
        "sns.heatmap(cm, annot=True)"
      ],
      "metadata": {
        "colab": {
          "base_uri": "https://localhost:8080/",
          "height": 317
        },
        "id": "nSQqVvJeFBGo",
        "outputId": "b9661242-99de-42e1-82a4-ebc35b56979d"
      },
      "execution_count": null,
      "outputs": [
        {
          "output_type": "stream",
          "name": "stdout",
          "text": [
            "[[195  53]\n",
            " [ 82  68]]\n"
          ]
        },
        {
          "output_type": "execute_result",
          "data": {
            "text/plain": [
              "<matplotlib.axes._subplots.AxesSubplot at 0x7f6b532f2d90>"
            ]
          },
          "metadata": {},
          "execution_count": 401
        },
        {
          "output_type": "display_data",
          "data": {
            "text/plain": [
              "<Figure size 432x288 with 2 Axes>"
            ],
            "image/png": "[encoded data removed]"
          },
          "metadata": {
            "needs_background": "light"
          }
        }
      ]
    },
    {
      "cell_type": "markdown",
      "source": [
        "A matriz de confusão mostra que o modelo teve bastante eficácia em detectar negativos, mas uma deficiência em relação à detecção dos positivos. Vemos que o número de FN é relativamente maior que o número de TP. No nosso cenário, isso pode prejudicar a empresa por estar perdendo possíveis clientes. Contudo, como evidenciado antes, o objetivo dessa rede é servir como uma ferramenta para dar indicações. Sendo assim, na perspectiva de que o modelo apontou bem os negativos, será mais simples para analistas de mercado identificar o seu mercado consumidor pois eles já terão um bom parâmetro do que **não** caracteriza o seu público alvo. E com base nisso, poderão determinar com mais precisão os fatores principais que levam um possível cliente a contratar seus serviços. "
      ],
      "metadata": {
        "id": "WZwwWYzDqxpI"
      }
    },
    {
      "cell_type": "code",
      "source": [
        "print(classification_report(y_teste,prev_teste))"
      ],
      "metadata": {
        "colab": {
          "base_uri": "https://localhost:8080/"
        },
        "id": "JPlC09b7pAiV",
        "outputId": "b09b5d67-6590-4cf6-f59c-c2421da76cb1"
      },
      "execution_count": null,
      "outputs": [
        {
          "output_type": "stream",
          "name": "stdout",
          "text": [
            "              precision    recall  f1-score   support\n",
            "\n",
            "           0       0.70      0.79      0.74       248\n",
            "           1       0.56      0.45      0.50       150\n",
            "\n",
            "    accuracy                           0.66       398\n",
            "   macro avg       0.63      0.62      0.62       398\n",
            "weighted avg       0.65      0.66      0.65       398\n",
            "\n"
          ]
        }
      ]
    },
    {
      "cell_type": "markdown",
      "source": [
        "Como é possível observar, o modelo tem uma boa precisão em identificar os que não contrataram porém uma baixa precisão em identificar aqueles que contrataram. Sendo dos que não contrataram, a precisão foi de 70% e o recall de 79%, enquanto dos que contrataram a precisão foi de 56% e o recall de 45%"
      ],
      "metadata": {
        "id": "gyqA1SDUvaHQ"
      }
    },
    {
      "cell_type": "markdown",
      "source": [
        "Tendo em vista os resultados obtidos após a implementação, concluímos que a rede neural utilizada não é o algoritmo ideal para identificar os possíveis compradores do seguro-viagem. Porém, se utilizada como uma ferramenta de indicação, ela pode vir a ser bem útil para analistas de mercado. Por ter uma boa precisão em identificar aqueles que não contratariam um serviço, muitas opções de perfis de clientes já podem ser descartadas, economizando bastante tempo da empresa nas suas pesquisas de mercado. Desse modo, para um bom proveito desse modelo ele não teria que ser utilizado sozinho, mas sim com outros dados e outros algoritmos que fariam uma comparação."
      ],
      "metadata": {
        "id": "5V3_9eziv84X"
      }
    }
  ]
}